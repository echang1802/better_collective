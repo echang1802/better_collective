{
 "cells": [
  {
   "cell_type": "markdown",
   "id": "e3baa0bc-a9f2-4f82-9643-b205f2cf8022",
   "metadata": {},
   "source": [
    "# Better Collective Challenge - Data Preparation\n",
    "\n",
    "Eloy Chang\n",
    "\n",
    "----------------------------------\n",
    "\n",
    "## Imports"
   ]
  },
  {
   "cell_type": "code",
   "execution_count": 1,
   "id": "a3f5e2a8-39d9-4d60-9446-a48cd26e0713",
   "metadata": {
    "tags": []
   },
   "outputs": [],
   "source": [
    "import pandas as pd\n",
    "from dateutil.relativedelta import relativedelta\n",
    "import seaborn as sns\n",
    "import matplotlib.pyplot as plt\n",
    "from sklearn.model_selection import train_test_split\n",
    "import pickle"
   ]
  },
  {
   "cell_type": "markdown",
   "id": "6adcf37a-301f-4809-982f-e003ce544bd6",
   "metadata": {},
   "source": [
    "## Exploratory data analysis"
   ]
  },
  {
   "cell_type": "code",
   "execution_count": 2,
   "id": "2758248b-3700-4f45-a063-109b9b986cfe",
   "metadata": {
    "tags": []
   },
   "outputs": [
    {
     "name": "stdout",
     "output_type": "stream",
     "text": [
      "(52500, 12)\n"
     ]
    },
    {
     "data": {
      "text/html": [
       "<div>\n",
       "<style scoped>\n",
       "    .dataframe tbody tr th:only-of-type {\n",
       "        vertical-align: middle;\n",
       "    }\n",
       "\n",
       "    .dataframe tbody tr th {\n",
       "        vertical-align: top;\n",
       "    }\n",
       "\n",
       "    .dataframe thead th {\n",
       "        text-align: right;\n",
       "    }\n",
       "</style>\n",
       "<table border=\"1\" class=\"dataframe\">\n",
       "  <thead>\n",
       "    <tr style=\"text-align: right;\">\n",
       "      <th></th>\n",
       "      <th>activity_month</th>\n",
       "      <th>account_id</th>\n",
       "      <th>brand_id</th>\n",
       "      <th>reg_date</th>\n",
       "      <th>ftd_date</th>\n",
       "      <th>qp_date</th>\n",
       "      <th>ben_login_id</th>\n",
       "      <th>tracker_id</th>\n",
       "      <th>player_reg_product</th>\n",
       "      <th>total_deposit</th>\n",
       "      <th>total_handle</th>\n",
       "      <th>total_ngr</th>\n",
       "    </tr>\n",
       "  </thead>\n",
       "  <tbody>\n",
       "    <tr>\n",
       "      <th>0</th>\n",
       "      <td>2023-11-01</td>\n",
       "      <td>185196607</td>\n",
       "      <td>PA</td>\n",
       "      <td>2023-11-21</td>\n",
       "      <td>2023-11-21</td>\n",
       "      <td>NaT</td>\n",
       "      <td>BCUSA22L</td>\n",
       "      <td>7102592</td>\n",
       "      <td>BETTING</td>\n",
       "      <td>10.0</td>\n",
       "      <td>210.0</td>\n",
       "      <td>13.18</td>\n",
       "    </tr>\n",
       "    <tr>\n",
       "      <th>1</th>\n",
       "      <td>2023-11-01</td>\n",
       "      <td>154497623</td>\n",
       "      <td>AZ</td>\n",
       "      <td>2022-10-28</td>\n",
       "      <td>2022-10-28</td>\n",
       "      <td>2022-10-28</td>\n",
       "      <td>actionnetwork</td>\n",
       "      <td>7039239</td>\n",
       "      <td>BETTING</td>\n",
       "      <td>0.0</td>\n",
       "      <td>5.0</td>\n",
       "      <td>4.00</td>\n",
       "    </tr>\n",
       "    <tr>\n",
       "      <th>2</th>\n",
       "      <td>2023-11-01</td>\n",
       "      <td>153249011</td>\n",
       "      <td>MI</td>\n",
       "      <td>2022-08-18</td>\n",
       "      <td>2023-12-21</td>\n",
       "      <td>NaT</td>\n",
       "      <td>starsportsmx</td>\n",
       "      <td>7049874</td>\n",
       "      <td>CASINO</td>\n",
       "      <td>0.0</td>\n",
       "      <td>0.0</td>\n",
       "      <td>0.00</td>\n",
       "    </tr>\n",
       "    <tr>\n",
       "      <th>3</th>\n",
       "      <td>2023-11-01</td>\n",
       "      <td>184718245</td>\n",
       "      <td>OH</td>\n",
       "      <td>2023-11-13</td>\n",
       "      <td>2023-11-13</td>\n",
       "      <td>2023-11-13</td>\n",
       "      <td>actionnetwork</td>\n",
       "      <td>7106987</td>\n",
       "      <td>BETTING</td>\n",
       "      <td>10.0</td>\n",
       "      <td>210.0</td>\n",
       "      <td>138.98</td>\n",
       "    </tr>\n",
       "    <tr>\n",
       "      <th>4</th>\n",
       "      <td>2023-11-01</td>\n",
       "      <td>183573211</td>\n",
       "      <td>OH</td>\n",
       "      <td>2023-11-06</td>\n",
       "      <td>2023-11-06</td>\n",
       "      <td>2023-11-06</td>\n",
       "      <td>BCUSA22NP</td>\n",
       "      <td>7106983</td>\n",
       "      <td>BETTING</td>\n",
       "      <td>10.0</td>\n",
       "      <td>210.0</td>\n",
       "      <td>-320.22</td>\n",
       "    </tr>\n",
       "  </tbody>\n",
       "</table>\n",
       "</div>"
      ],
      "text/plain": [
       "  activity_month  account_id brand_id   reg_date   ftd_date    qp_date  \\\n",
       "0     2023-11-01   185196607       PA 2023-11-21 2023-11-21        NaT   \n",
       "1     2023-11-01   154497623       AZ 2022-10-28 2022-10-28 2022-10-28   \n",
       "2     2023-11-01   153249011       MI 2022-08-18 2023-12-21        NaT   \n",
       "3     2023-11-01   184718245       OH 2023-11-13 2023-11-13 2023-11-13   \n",
       "4     2023-11-01   183573211       OH 2023-11-06 2023-11-06 2023-11-06   \n",
       "\n",
       "    ben_login_id  tracker_id player_reg_product  total_deposit  total_handle  \\\n",
       "0       BCUSA22L     7102592            BETTING           10.0         210.0   \n",
       "1  actionnetwork     7039239            BETTING            0.0           5.0   \n",
       "2   starsportsmx     7049874             CASINO            0.0           0.0   \n",
       "3  actionnetwork     7106987            BETTING           10.0         210.0   \n",
       "4      BCUSA22NP     7106983            BETTING           10.0         210.0   \n",
       "\n",
       "   total_ngr  \n",
       "0      13.18  \n",
       "1       4.00  \n",
       "2       0.00  \n",
       "3     138.98  \n",
       "4    -320.22  "
      ]
     },
     "execution_count": 2,
     "metadata": {},
     "output_type": "execute_result"
    }
   ],
   "source": [
    "data = pd.read_excel('../data/sample_data__technical_assessment.xlsx', sheet_name = 'Sheet1')\n",
    "print(data.shape)\n",
    "data.head()"
   ]
  },
  {
   "cell_type": "code",
   "execution_count": 3,
   "id": "15fe0951-ebdc-4bff-8308-1b43ff01a6fd",
   "metadata": {
    "tags": []
   },
   "outputs": [
    {
     "data": {
      "text/plain": [
       "activity_month           21\n",
       "account_id            45915\n",
       "state                    29\n",
       "reg_date                840\n",
       "ftd_date                870\n",
       "qp_date                 673\n",
       "ben_login_id              7\n",
       "tracker_id              960\n",
       "player_reg_product        5\n",
       "total_deposit          2651\n",
       "total_handle          14110\n",
       "total_ngr             18548\n",
       "dtype: int64"
      ]
     },
     "execution_count": 3,
     "metadata": {},
     "output_type": "execute_result"
    }
   ],
   "source": [
    "data.rename(columns = {'brand_id' : 'state'}, inplace = True)\n",
    "data.nunique()"
   ]
  },
  {
   "cell_type": "code",
   "execution_count": 4,
   "id": "14f64d22",
   "metadata": {},
   "outputs": [
    {
     "data": {
      "text/plain": [
       "154819309    7\n",
       "154429380    6\n",
       "168047312    6\n",
       "156016408    5\n",
       "154121795    5\n",
       "            ..\n",
       "155801711    1\n",
       "159293469    1\n",
       "155042036    1\n",
       "158704017    1\n",
       "187389455    1\n",
       "Name: account_id, Length: 45915, dtype: int64"
      ]
     },
     "execution_count": 4,
     "metadata": {},
     "output_type": "execute_result"
    }
   ],
   "source": [
    "data.account_id.value_counts()"
   ]
  },
  {
   "cell_type": "code",
   "execution_count": 5,
   "id": "75d241e8",
   "metadata": {},
   "outputs": [
    {
     "data": {
      "text/plain": [
       "40447"
      ]
     },
     "execution_count": 5,
     "metadata": {},
     "output_type": "execute_result"
    }
   ],
   "source": [
    "(data.account_id.value_counts() == 1).sum()"
   ]
  },
  {
   "cell_type": "markdown",
   "id": "6e714f97",
   "metadata": {},
   "source": [
    "40447 accounts out of 45915 (88.09%) only have data on 1 month (they subscribe and churn the same month)."
   ]
  },
  {
   "cell_type": "code",
   "execution_count": 6,
   "id": "4540e3d1-3a41-4364-ad3a-d35b78decb13",
   "metadata": {
    "tags": []
   },
   "outputs": [
    {
     "data": {
      "text/html": [
       "<div>\n",
       "<style scoped>\n",
       "    .dataframe tbody tr th:only-of-type {\n",
       "        vertical-align: middle;\n",
       "    }\n",
       "\n",
       "    .dataframe tbody tr th {\n",
       "        vertical-align: top;\n",
       "    }\n",
       "\n",
       "    .dataframe thead th {\n",
       "        text-align: right;\n",
       "    }\n",
       "</style>\n",
       "<table border=\"1\" class=\"dataframe\">\n",
       "  <thead>\n",
       "    <tr style=\"text-align: right;\">\n",
       "      <th></th>\n",
       "      <th>total_deposit</th>\n",
       "      <th>total_handle</th>\n",
       "      <th>total_ngr</th>\n",
       "    </tr>\n",
       "  </thead>\n",
       "  <tbody>\n",
       "    <tr>\n",
       "      <th>count</th>\n",
       "      <td>52500.000000</td>\n",
       "      <td>5.233800e+04</td>\n",
       "      <td>52500.000000</td>\n",
       "    </tr>\n",
       "    <tr>\n",
       "      <th>mean</th>\n",
       "      <td>262.379566</td>\n",
       "      <td>1.552656e+03</td>\n",
       "      <td>36.718138</td>\n",
       "    </tr>\n",
       "    <tr>\n",
       "      <th>std</th>\n",
       "      <td>3057.920409</td>\n",
       "      <td>2.737943e+04</td>\n",
       "      <td>1037.177318</td>\n",
       "    </tr>\n",
       "    <tr>\n",
       "      <th>min</th>\n",
       "      <td>0.000000</td>\n",
       "      <td>0.000000e+00</td>\n",
       "      <td>-116450.000000</td>\n",
       "    </tr>\n",
       "    <tr>\n",
       "      <th>25%</th>\n",
       "      <td>0.000000</td>\n",
       "      <td>0.000000e+00</td>\n",
       "      <td>-0.080000</td>\n",
       "    </tr>\n",
       "    <tr>\n",
       "      <th>50%</th>\n",
       "      <td>0.000000</td>\n",
       "      <td>3.000000e+01</td>\n",
       "      <td>0.000000</td>\n",
       "    </tr>\n",
       "    <tr>\n",
       "      <th>75%</th>\n",
       "      <td>40.000000</td>\n",
       "      <td>2.200000e+02</td>\n",
       "      <td>29.780000</td>\n",
       "    </tr>\n",
       "    <tr>\n",
       "      <th>max</th>\n",
       "      <td>437952.000000</td>\n",
       "      <td>4.769780e+06</td>\n",
       "      <td>59168.400000</td>\n",
       "    </tr>\n",
       "  </tbody>\n",
       "</table>\n",
       "</div>"
      ],
      "text/plain": [
       "       total_deposit  total_handle      total_ngr\n",
       "count   52500.000000  5.233800e+04   52500.000000\n",
       "mean      262.379566  1.552656e+03      36.718138\n",
       "std      3057.920409  2.737943e+04    1037.177318\n",
       "min         0.000000  0.000000e+00 -116450.000000\n",
       "25%         0.000000  0.000000e+00      -0.080000\n",
       "50%         0.000000  3.000000e+01       0.000000\n",
       "75%        40.000000  2.200000e+02      29.780000\n",
       "max    437952.000000  4.769780e+06   59168.400000"
      ]
     },
     "execution_count": 6,
     "metadata": {},
     "output_type": "execute_result"
    }
   ],
   "source": [
    "data[['total_deposit', 'total_handle', 'total_ngr']].describe()"
   ]
  },
  {
   "cell_type": "code",
   "execution_count": 7,
   "id": "0429469b",
   "metadata": {},
   "outputs": [
    {
     "data": {
      "text/html": [
       "<div>\n",
       "<style scoped>\n",
       "    .dataframe tbody tr th:only-of-type {\n",
       "        vertical-align: middle;\n",
       "    }\n",
       "\n",
       "    .dataframe tbody tr th {\n",
       "        vertical-align: top;\n",
       "    }\n",
       "\n",
       "    .dataframe thead tr th {\n",
       "        text-align: left;\n",
       "    }\n",
       "\n",
       "    .dataframe thead tr:last-of-type th {\n",
       "        text-align: right;\n",
       "    }\n",
       "</style>\n",
       "<table border=\"1\" class=\"dataframe\">\n",
       "  <thead>\n",
       "    <tr>\n",
       "      <th></th>\n",
       "      <th colspan=\"2\" halign=\"left\">account_id</th>\n",
       "      <th colspan=\"2\" halign=\"left\">total_deposit</th>\n",
       "      <th colspan=\"2\" halign=\"left\">total_handle</th>\n",
       "      <th colspan=\"2\" halign=\"left\">total_ngr</th>\n",
       "    </tr>\n",
       "    <tr>\n",
       "      <th></th>\n",
       "      <th>count</th>\n",
       "      <th>nunique</th>\n",
       "      <th>mean</th>\n",
       "      <th>std</th>\n",
       "      <th>mean</th>\n",
       "      <th>std</th>\n",
       "      <th>mean</th>\n",
       "      <th>std</th>\n",
       "    </tr>\n",
       "    <tr>\n",
       "      <th>ben_login_id</th>\n",
       "      <th></th>\n",
       "      <th></th>\n",
       "      <th></th>\n",
       "      <th></th>\n",
       "      <th></th>\n",
       "      <th></th>\n",
       "      <th></th>\n",
       "      <th></th>\n",
       "    </tr>\n",
       "  </thead>\n",
       "  <tbody>\n",
       "    <tr>\n",
       "      <th>BCCSB22</th>\n",
       "      <td>65</td>\n",
       "      <td>53</td>\n",
       "      <td>4258.719231</td>\n",
       "      <td>20256.414651</td>\n",
       "      <td>10366.069846</td>\n",
       "      <td>33839.830576</td>\n",
       "      <td>234.155385</td>\n",
       "      <td>2858.689158</td>\n",
       "    </tr>\n",
       "    <tr>\n",
       "      <th>BCUSA22L</th>\n",
       "      <td>2770</td>\n",
       "      <td>2353</td>\n",
       "      <td>485.750787</td>\n",
       "      <td>5113.366412</td>\n",
       "      <td>3061.271154</td>\n",
       "      <td>28097.204200</td>\n",
       "      <td>68.138845</td>\n",
       "      <td>1364.479833</td>\n",
       "    </tr>\n",
       "    <tr>\n",
       "      <th>BCUSA22N</th>\n",
       "      <td>11988</td>\n",
       "      <td>10357</td>\n",
       "      <td>364.961944</td>\n",
       "      <td>4893.376688</td>\n",
       "      <td>2154.253267</td>\n",
       "      <td>46376.122492</td>\n",
       "      <td>50.656340</td>\n",
       "      <td>1170.876409</td>\n",
       "    </tr>\n",
       "    <tr>\n",
       "      <th>BCUSA22NP</th>\n",
       "      <td>5062</td>\n",
       "      <td>4421</td>\n",
       "      <td>312.575081</td>\n",
       "      <td>2061.495364</td>\n",
       "      <td>1767.653770</td>\n",
       "      <td>18404.103520</td>\n",
       "      <td>56.123410</td>\n",
       "      <td>1072.321716</td>\n",
       "    </tr>\n",
       "    <tr>\n",
       "      <th>actionnetwork</th>\n",
       "      <td>18747</td>\n",
       "      <td>16585</td>\n",
       "      <td>144.782889</td>\n",
       "      <td>1047.135312</td>\n",
       "      <td>726.469339</td>\n",
       "      <td>6179.481643</td>\n",
       "      <td>20.329257</td>\n",
       "      <td>564.575377</td>\n",
       "    </tr>\n",
       "    <tr>\n",
       "      <th>starsportsmx</th>\n",
       "      <td>13079</td>\n",
       "      <td>11377</td>\n",
       "      <td>245.588063</td>\n",
       "      <td>2127.502012</td>\n",
       "      <td>1730.664860</td>\n",
       "      <td>25927.489477</td>\n",
       "      <td>34.432405</td>\n",
       "      <td>1294.400584</td>\n",
       "    </tr>\n",
       "    <tr>\n",
       "      <th>wedgetraffic</th>\n",
       "      <td>789</td>\n",
       "      <td>771</td>\n",
       "      <td>340.774208</td>\n",
       "      <td>1738.137797</td>\n",
       "      <td>1712.107123</td>\n",
       "      <td>8439.128324</td>\n",
       "      <td>1.164309</td>\n",
       "      <td>901.919137</td>\n",
       "    </tr>\n",
       "  </tbody>\n",
       "</table>\n",
       "</div>"
      ],
      "text/plain": [
       "              account_id         total_deposit                total_handle  \\\n",
       "                   count nunique          mean           std          mean   \n",
       "ben_login_id                                                                 \n",
       "BCCSB22               65      53   4258.719231  20256.414651  10366.069846   \n",
       "BCUSA22L            2770    2353    485.750787   5113.366412   3061.271154   \n",
       "BCUSA22N           11988   10357    364.961944   4893.376688   2154.253267   \n",
       "BCUSA22NP           5062    4421    312.575081   2061.495364   1767.653770   \n",
       "actionnetwork      18747   16585    144.782889   1047.135312    726.469339   \n",
       "starsportsmx       13079   11377    245.588063   2127.502012   1730.664860   \n",
       "wedgetraffic         789     771    340.774208   1738.137797   1712.107123   \n",
       "\n",
       "                              total_ngr               \n",
       "                        std        mean          std  \n",
       "ben_login_id                                          \n",
       "BCCSB22        33839.830576  234.155385  2858.689158  \n",
       "BCUSA22L       28097.204200   68.138845  1364.479833  \n",
       "BCUSA22N       46376.122492   50.656340  1170.876409  \n",
       "BCUSA22NP      18404.103520   56.123410  1072.321716  \n",
       "actionnetwork   6179.481643   20.329257   564.575377  \n",
       "starsportsmx   25927.489477   34.432405  1294.400584  \n",
       "wedgetraffic    8439.128324    1.164309   901.919137  "
      ]
     },
     "execution_count": 7,
     "metadata": {},
     "output_type": "execute_result"
    }
   ],
   "source": [
    "data.groupby(\"ben_login_id\").agg({\n",
    "    'account_id' : ['count', 'nunique'],\n",
    "    'total_deposit' : ['mean', 'std'], \n",
    "    'total_handle' : ['mean', 'std'], \n",
    "    'total_ngr' : ['mean', 'std']\n",
    "})"
   ]
  },
  {
   "cell_type": "markdown",
   "id": "38097c04",
   "metadata": {},
   "source": [
    "The brand actionnetwork is the most popular and looks very stable in all metrics but with a modest revenue, meanwhile starsportsmx is the second most popular brand have very high revenue variability. On the other hand, BCCSB22 seems to be a premium brand with lower popularity but with the greater deposits and revenue, but also very hgh volatility."
   ]
  },
  {
   "cell_type": "code",
   "execution_count": 8,
   "id": "eb898c47",
   "metadata": {},
   "outputs": [
    {
     "name": "stdout",
     "output_type": "stream",
     "text": [
      "           account_id         total_deposit             total_handle  \\\n",
      "                count nunique          mean         sum         mean   \n",
      "tracker_id                                                             \n",
      "7080479          4139    3603    177.553726   734894.87  1208.407465   \n",
      "7086400          3837    3305    466.192989  1788782.50  3155.305721   \n",
      "7039239          3317    2774    143.565002   476205.11   824.646293   \n",
      "7072277          1388    1152    435.380324   604307.89  2371.109146   \n",
      "7034205          1374    1224     76.316368   104858.69   343.962646   \n",
      "7077216          1368    1178    178.837617   244649.86   832.932111   \n",
      "7083318          1193    1040    303.204199   361722.61  1610.639319   \n",
      "7077214          1117     981    232.747502   259978.96  1272.779596   \n",
      "7077218           991     881    317.773239   314913.28  2772.217492   \n",
      "7037834           931     804    400.982052   373314.29  3705.299319   \n",
      "\n",
      "                         total_ngr             \n",
      "                    sum       mean        sum  \n",
      "tracker_id                                     \n",
      "7080479      4982263.98  29.260273  121108.27  \n",
      "7086400     12062733.77  76.216654  292443.30  \n",
      "7039239      2725456.00  24.185891   80224.60  \n",
      "7072277      3276872.84  71.253177   98899.41  \n",
      "7034205       470540.90  15.353988   21096.38  \n",
      "7077216      1136119.40  27.654649   37831.56  \n",
      "7083318      1915050.15  52.574845   62721.79  \n",
      "7077214      1417876.47  38.083483   42539.25  \n",
      "7077218      2741723.10 -62.914046  -62347.82  \n",
      "7037834      3375527.68  50.332879   46859.91  \n",
      "           account_id         total_deposit        total_handle           \\\n",
      "                count nunique          mean    sum         mean      sum   \n",
      "tracker_id                                                                 \n",
      "7103777             1       1           0.0    0.0         0.00     0.00   \n",
      "7072977             1       1          50.0   50.0       273.57   273.57   \n",
      "7104368             1       1         100.0  100.0       642.04   642.04   \n",
      "7092849             1       1           0.0    0.0         2.00     2.00   \n",
      "7092839             1       1          25.0   25.0        20.00    20.00   \n",
      "7046305             1       1           0.0    0.0        60.00    60.00   \n",
      "7104572             1       1           0.0    0.0         0.00     0.00   \n",
      "7104845             1       1         250.0  250.0      4390.33  4390.33   \n",
      "7105578             1       1           0.0    0.0         0.00     0.00   \n",
      "7087326             1       1           0.0    0.0       517.66   517.66   \n",
      "\n",
      "           total_ngr          \n",
      "                mean     sum  \n",
      "tracker_id                    \n",
      "7103777       -25.00  -25.00  \n",
      "7072977      -210.12 -210.12  \n",
      "7104368        66.23   66.23  \n",
      "7092849         1.50    1.50  \n",
      "7092839        -8.55   -8.55  \n",
      "7046305        60.00   60.00  \n",
      "7104572         0.00    0.00  \n",
      "7104845       164.66  164.66  \n",
      "7105578         0.00    0.00  \n",
      "7087326       -24.85  -24.85  \n"
     ]
    }
   ],
   "source": [
    "tracker_data = data.groupby(\"tracker_id\").agg({\n",
    "    'account_id' : ['count', 'nunique'],\n",
    "    'total_deposit' : ['mean', 'sum'], \n",
    "    'total_handle' : ['mean', 'sum'], \n",
    "    'total_ngr' : ['mean', 'sum']\n",
    "})\n",
    "tracker_data = tracker_data.sort_values(by = ('account_id', 'count'), ascending = False)\n",
    "print(tracker_data.head(10))\n",
    "print(tracker_data.tail(10))"
   ]
  },
  {
   "cell_type": "code",
   "execution_count": 9,
   "id": "5099a70e",
   "metadata": {},
   "outputs": [
    {
     "data": {
      "text/html": [
       "<div>\n",
       "<style scoped>\n",
       "    .dataframe tbody tr th:only-of-type {\n",
       "        vertical-align: middle;\n",
       "    }\n",
       "\n",
       "    .dataframe tbody tr th {\n",
       "        vertical-align: top;\n",
       "    }\n",
       "\n",
       "    .dataframe thead tr th {\n",
       "        text-align: left;\n",
       "    }\n",
       "\n",
       "    .dataframe thead tr:last-of-type th {\n",
       "        text-align: right;\n",
       "    }\n",
       "</style>\n",
       "<table border=\"1\" class=\"dataframe\">\n",
       "  <thead>\n",
       "    <tr>\n",
       "      <th></th>\n",
       "      <th colspan=\"2\" halign=\"left\">account_id</th>\n",
       "      <th colspan=\"2\" halign=\"left\">total_deposit</th>\n",
       "      <th colspan=\"2\" halign=\"left\">total_handle</th>\n",
       "      <th colspan=\"2\" halign=\"left\">total_ngr</th>\n",
       "      <th>tracker_efectivity</th>\n",
       "    </tr>\n",
       "    <tr>\n",
       "      <th></th>\n",
       "      <th>count</th>\n",
       "      <th>nunique</th>\n",
       "      <th>mean</th>\n",
       "      <th>sum</th>\n",
       "      <th>mean</th>\n",
       "      <th>sum</th>\n",
       "      <th>mean</th>\n",
       "      <th>sum</th>\n",
       "      <th></th>\n",
       "    </tr>\n",
       "    <tr>\n",
       "      <th>tracker_id</th>\n",
       "      <th></th>\n",
       "      <th></th>\n",
       "      <th></th>\n",
       "      <th></th>\n",
       "      <th></th>\n",
       "      <th></th>\n",
       "      <th></th>\n",
       "      <th></th>\n",
       "      <th></th>\n",
       "    </tr>\n",
       "  </thead>\n",
       "  <tbody>\n",
       "    <tr>\n",
       "      <th>7113906</th>\n",
       "      <td>1</td>\n",
       "      <td>1</td>\n",
       "      <td>25700.000000</td>\n",
       "      <td>25700.00</td>\n",
       "      <td>252098.000000</td>\n",
       "      <td>252098.00</td>\n",
       "      <td>13838.800000</td>\n",
       "      <td>13838.80</td>\n",
       "      <td>13838.800000</td>\n",
       "    </tr>\n",
       "    <tr>\n",
       "      <th>7080637</th>\n",
       "      <td>1</td>\n",
       "      <td>1</td>\n",
       "      <td>5825.150000</td>\n",
       "      <td>5825.15</td>\n",
       "      <td>7442.850000</td>\n",
       "      <td>7442.85</td>\n",
       "      <td>5451.600000</td>\n",
       "      <td>5451.60</td>\n",
       "      <td>5451.600000</td>\n",
       "    </tr>\n",
       "    <tr>\n",
       "      <th>7089126</th>\n",
       "      <td>6</td>\n",
       "      <td>4</td>\n",
       "      <td>10281.666667</td>\n",
       "      <td>61690.00</td>\n",
       "      <td>86565.276667</td>\n",
       "      <td>519391.66</td>\n",
       "      <td>4310.668333</td>\n",
       "      <td>25864.01</td>\n",
       "      <td>4310.668333</td>\n",
       "    </tr>\n",
       "    <tr>\n",
       "      <th>7088346</th>\n",
       "      <td>3</td>\n",
       "      <td>3</td>\n",
       "      <td>10000.000000</td>\n",
       "      <td>30000.00</td>\n",
       "      <td>32093.733333</td>\n",
       "      <td>96281.20</td>\n",
       "      <td>3401.856667</td>\n",
       "      <td>10205.57</td>\n",
       "      <td>3401.856667</td>\n",
       "    </tr>\n",
       "    <tr>\n",
       "      <th>7087718</th>\n",
       "      <td>2</td>\n",
       "      <td>2</td>\n",
       "      <td>761.000000</td>\n",
       "      <td>1522.00</td>\n",
       "      <td>39078.200000</td>\n",
       "      <td>78156.40</td>\n",
       "      <td>3108.905000</td>\n",
       "      <td>6217.81</td>\n",
       "      <td>3108.905000</td>\n",
       "    </tr>\n",
       "    <tr>\n",
       "      <th>...</th>\n",
       "      <td>...</td>\n",
       "      <td>...</td>\n",
       "      <td>...</td>\n",
       "      <td>...</td>\n",
       "      <td>...</td>\n",
       "      <td>...</td>\n",
       "      <td>...</td>\n",
       "      <td>...</td>\n",
       "      <td>...</td>\n",
       "    </tr>\n",
       "    <tr>\n",
       "      <th>7101938</th>\n",
       "      <td>1</td>\n",
       "      <td>1</td>\n",
       "      <td>890.000000</td>\n",
       "      <td>890.00</td>\n",
       "      <td>8296.790000</td>\n",
       "      <td>8296.79</td>\n",
       "      <td>-712.440000</td>\n",
       "      <td>-712.44</td>\n",
       "      <td>-712.440000</td>\n",
       "    </tr>\n",
       "    <tr>\n",
       "      <th>7090662</th>\n",
       "      <td>23</td>\n",
       "      <td>18</td>\n",
       "      <td>138.739130</td>\n",
       "      <td>3191.00</td>\n",
       "      <td>2480.607826</td>\n",
       "      <td>57053.98</td>\n",
       "      <td>-1070.641304</td>\n",
       "      <td>-24624.75</td>\n",
       "      <td>-1070.641304</td>\n",
       "    </tr>\n",
       "    <tr>\n",
       "      <th>7107670</th>\n",
       "      <td>2</td>\n",
       "      <td>2</td>\n",
       "      <td>1875.000000</td>\n",
       "      <td>3750.00</td>\n",
       "      <td>4500.000000</td>\n",
       "      <td>9000.00</td>\n",
       "      <td>-1606.915000</td>\n",
       "      <td>-3213.83</td>\n",
       "      <td>-1606.915000</td>\n",
       "    </tr>\n",
       "    <tr>\n",
       "      <th>7107007</th>\n",
       "      <td>15</td>\n",
       "      <td>14</td>\n",
       "      <td>3788.041333</td>\n",
       "      <td>56820.62</td>\n",
       "      <td>12984.646667</td>\n",
       "      <td>194769.70</td>\n",
       "      <td>-1814.907333</td>\n",
       "      <td>-27223.61</td>\n",
       "      <td>-1814.907333</td>\n",
       "    </tr>\n",
       "    <tr>\n",
       "      <th>7103541</th>\n",
       "      <td>2</td>\n",
       "      <td>1</td>\n",
       "      <td>1350.000000</td>\n",
       "      <td>2700.00</td>\n",
       "      <td>16592.500000</td>\n",
       "      <td>33185.00</td>\n",
       "      <td>-4023.885000</td>\n",
       "      <td>-8047.77</td>\n",
       "      <td>-4023.885000</td>\n",
       "    </tr>\n",
       "  </tbody>\n",
       "</table>\n",
       "<p>960 rows × 9 columns</p>\n",
       "</div>"
      ],
      "text/plain": [
       "           account_id         total_deposit             total_handle  \\\n",
       "                count nunique          mean       sum           mean   \n",
       "tracker_id                                                             \n",
       "7113906             1       1  25700.000000  25700.00  252098.000000   \n",
       "7080637             1       1   5825.150000   5825.15    7442.850000   \n",
       "7089126             6       4  10281.666667  61690.00   86565.276667   \n",
       "7088346             3       3  10000.000000  30000.00   32093.733333   \n",
       "7087718             2       2    761.000000   1522.00   39078.200000   \n",
       "...               ...     ...           ...       ...            ...   \n",
       "7101938             1       1    890.000000    890.00    8296.790000   \n",
       "7090662            23      18    138.739130   3191.00    2480.607826   \n",
       "7107670             2       2   1875.000000   3750.00    4500.000000   \n",
       "7107007            15      14   3788.041333  56820.62   12984.646667   \n",
       "7103541             2       1   1350.000000   2700.00   16592.500000   \n",
       "\n",
       "                          total_ngr           tracker_efectivity  \n",
       "                  sum          mean       sum                     \n",
       "tracker_id                                                        \n",
       "7113906     252098.00  13838.800000  13838.80       13838.800000  \n",
       "7080637       7442.85   5451.600000   5451.60        5451.600000  \n",
       "7089126     519391.66   4310.668333  25864.01        4310.668333  \n",
       "7088346      96281.20   3401.856667  10205.57        3401.856667  \n",
       "7087718      78156.40   3108.905000   6217.81        3108.905000  \n",
       "...               ...           ...       ...                ...  \n",
       "7101938       8296.79   -712.440000   -712.44        -712.440000  \n",
       "7090662      57053.98  -1070.641304 -24624.75       -1070.641304  \n",
       "7107670       9000.00  -1606.915000  -3213.83       -1606.915000  \n",
       "7107007     194769.70  -1814.907333 -27223.61       -1814.907333  \n",
       "7103541      33185.00  -4023.885000  -8047.77       -4023.885000  \n",
       "\n",
       "[960 rows x 9 columns]"
      ]
     },
     "execution_count": 9,
     "metadata": {},
     "output_type": "execute_result"
    }
   ],
   "source": [
    "tracker_data['tracker_efectivity'] = tracker_data[('total_ngr', 'sum')] / tracker_data[('account_id', 'count')]\n",
    "tracker_data.sort_values(by = 'tracker_efectivity',ascending = False)"
   ]
  },
  {
   "cell_type": "markdown",
   "id": "0432b391",
   "metadata": {},
   "source": [
    "The location 7080479 is the most popular one with almost 8% of the data, however, the location 7086400 with more that 300 leads least (7% least) generate $171k more revenue (41.47% more), on the other side, the location 7077218 is the 9th most popular, but with losses greater that $60k."
   ]
  },
  {
   "cell_type": "code",
   "execution_count": 10,
   "id": "0d63e99f",
   "metadata": {},
   "outputs": [
    {
     "data": {
      "image/png": "[encoded data removed]",
      "text/plain": [
       "<Figure size 640x480 with 1 Axes>"
      ]
     },
     "metadata": {},
     "output_type": "display_data"
    }
   ],
   "source": [
    "sns.regplot(data, x = \"total_deposit\", y = \"total_ngr\")\n",
    "plt.grid() "
   ]
  },
  {
   "cell_type": "markdown",
   "id": "6a86fc71",
   "metadata": {},
   "source": [
    "Most of the points are concentrated near the center of the axis, but, in general there is a slight indicator that, account with greater deposits, also generate more revenue. "
   ]
  },
  {
   "cell_type": "markdown",
   "id": "8e881639-9f95-4d82-84d8-d28ab2cd5acf",
   "metadata": {},
   "source": [
    "## Data Prep"
   ]
  },
  {
   "cell_type": "code",
   "execution_count": 11,
   "id": "c83e9cc1-2a97-4c17-a1ec-df59569422a0",
   "metadata": {
    "tags": []
   },
   "outputs": [
    {
     "data": {
      "text/html": [
       "<div>\n",
       "<style scoped>\n",
       "    .dataframe tbody tr th:only-of-type {\n",
       "        vertical-align: middle;\n",
       "    }\n",
       "\n",
       "    .dataframe tbody tr th {\n",
       "        vertical-align: top;\n",
       "    }\n",
       "\n",
       "    .dataframe thead th {\n",
       "        text-align: right;\n",
       "    }\n",
       "</style>\n",
       "<table border=\"1\" class=\"dataframe\">\n",
       "  <thead>\n",
       "    <tr style=\"text-align: right;\">\n",
       "      <th></th>\n",
       "      <th>activity_month</th>\n",
       "      <th>reg_date</th>\n",
       "      <th>ftd_date</th>\n",
       "      <th>qp_date</th>\n",
       "    </tr>\n",
       "  </thead>\n",
       "  <tbody>\n",
       "    <tr>\n",
       "      <th>&lt;lambda&gt;</th>\n",
       "      <td>2022-09-01</td>\n",
       "      <td>2022-01-04</td>\n",
       "      <td>2020-03-08</td>\n",
       "      <td>2022-01-09</td>\n",
       "    </tr>\n",
       "    <tr>\n",
       "      <th>&lt;lambda&gt;</th>\n",
       "      <td>2024-05-01</td>\n",
       "      <td>2024-05-31</td>\n",
       "      <td>2024-06-06</td>\n",
       "      <td>2024-06-09</td>\n",
       "    </tr>\n",
       "  </tbody>\n",
       "</table>\n",
       "</div>"
      ],
      "text/plain": [
       "         activity_month    reg_date    ftd_date     qp_date\n",
       "<lambda>     2022-09-01  2022-01-04  2020-03-08  2022-01-09\n",
       "<lambda>     2024-05-01  2024-05-31  2024-06-06  2024-06-09"
      ]
     },
     "execution_count": 11,
     "metadata": {},
     "output_type": "execute_result"
    }
   ],
   "source": [
    "# Retype date columns\n",
    "date_columns = ['activity_month', 'reg_date', 'ftd_date', 'qp_date']\n",
    "for col in date_columns:\n",
    "    data[col] = pd.to_datetime(data[col]).dt.date\n",
    "    \n",
    "#check dates makes sense\n",
    "data[date_columns].agg([lambda x: x.dropna().min(), lambda x: x.dropna().max()])"
   ]
  },
  {
   "cell_type": "markdown",
   "id": "b08f848a",
   "metadata": {},
   "source": [
    "All dates ranges looks good, now let's make sure that reg_date, ftd_date and qp_date are before that activity_month, and delete all cases that not."
   ]
  },
  {
   "cell_type": "code",
   "execution_count": 12,
   "id": "3a95a403-7f09-4e22-b474-26a15c1af0ea",
   "metadata": {
    "tags": []
   },
   "outputs": [
    {
     "name": "stdout",
     "output_type": "stream",
     "text": [
      "activity_month\n",
      "Col activity_month has 0 wrong cases\n",
      "reg_date\n",
      "Col reg_date has 18327 wrong cases\n",
      "ftd_date\n"
     ]
    },
    {
     "name": "stderr",
     "output_type": "stream",
     "text": [
      "C:\\Users\\eloyc\\AppData\\Local\\Temp\\ipykernel_17400\\2905772123.py:4: FutureWarning: Comparison of NaT with datetime.date is deprecated in order to match the standard library behavior. In a future version these will be considered non-comparable.\n",
      "  aux = data.apply(lambda x: x.activity_month < x[col], axis = 1)\n"
     ]
    },
    {
     "name": "stdout",
     "output_type": "stream",
     "text": [
      "Col ftd_date has 14248 wrong cases\n",
      "qp_date\n"
     ]
    },
    {
     "name": "stderr",
     "output_type": "stream",
     "text": [
      "C:\\Users\\eloyc\\AppData\\Local\\Temp\\ipykernel_17400\\2905772123.py:4: FutureWarning: Comparison of NaT with datetime.date is deprecated in order to match the standard library behavior. In a future version these will be considered non-comparable.\n",
      "  aux = data.apply(lambda x: x.activity_month < x[col], axis = 1)\n"
     ]
    },
    {
     "name": "stdout",
     "output_type": "stream",
     "text": [
      "Col qp_date has 8952 wrong cases\n",
      "Total rows to delete: 20913\n"
     ]
    }
   ],
   "source": [
    "pos = pd.Series([False] * data.shape[0])\n",
    "for col in date_columns:\n",
    "    print(col)\n",
    "    aux = data.apply(lambda x: x.activity_month < x[col], axis = 1)\n",
    "    print(f'Col {col} has {aux.sum()} wrong cases')   \n",
    "    pos = (pos) | (aux)\n",
    "print(f'Total rows to delete: {pos.sum()}')\n",
    "data = data.loc[~pos]"
   ]
  },
  {
   "cell_type": "markdown",
   "id": "1927556d-0b9c-4d43-900d-e8dff8b78823",
   "metadata": {},
   "source": [
    "## Feature engineering\n",
    "\n",
    "months_active: is the difference (in months) between activity_month and ftd_date (lifetime of the account)."
   ]
  },
  {
   "cell_type": "code",
   "execution_count": 13,
   "id": "485c41b2",
   "metadata": {},
   "outputs": [
    {
     "data": {
      "text/plain": [
       "count    29852.000000\n",
       "mean         7.205849\n",
       "std          5.356101\n",
       "min          0.000000\n",
       "25%          3.000000\n",
       "50%          6.000000\n",
       "75%         11.000000\n",
       "max         40.000000\n",
       "Name: months_active, dtype: float64"
      ]
     },
     "execution_count": 13,
     "metadata": {},
     "output_type": "execute_result"
    }
   ],
   "source": [
    "data.dropna(subset = ['activity_month', 'ftd_date'], inplace = True)\n",
    "data['months_active'] = data.apply(lambda x: (x.activity_month.month - x.ftd_date.month) + 12 * (x.activity_month.year - x.ftd_date.year), axis = 1)\n",
    "data['months_active'].describe()"
   ]
  },
  {
   "cell_type": "markdown",
   "id": "bd89c89b",
   "metadata": {},
   "source": [
    "Note: Same variables for reg_date and qp_date can be added."
   ]
  },
  {
   "cell_type": "code",
   "execution_count": 14,
   "id": "90915e03-4152-45a1-b8bd-68a52c02621a",
   "metadata": {
    "tags": []
   },
   "outputs": [],
   "source": [
    "def calculate_lifetime_variable(data : pd.DataFrame, column : str) -> pd.Series:\n",
    "    account = ''\n",
    "    lifetime_variable = 0\n",
    "    lifetime_serie = []\n",
    "    for idx, row in data.iterrows(): \n",
    "        if account != row.account_id:\n",
    "            account = row.account_id\n",
    "            lifetime_variable = row[column]\n",
    "            lifetime_serie.append(0)\n",
    "            continue\n",
    "        lifetime_serie.append(lifetime_variable)\n",
    "        lifetime_variable += row[column]\n",
    "    return pd.Series(lifetime_serie, index = data.index)"
   ]
  },
  {
   "cell_type": "markdown",
   "id": "685653a7",
   "metadata": {},
   "source": [
    "lifetime_deposit: Sum of all deposits made by the account until the activity_month."
   ]
  },
  {
   "cell_type": "code",
   "execution_count": 15,
   "id": "71d56b94-46f8-43f3-96ca-ff6d8e4ad412",
   "metadata": {
    "tags": []
   },
   "outputs": [
    {
     "data": {
      "text/plain": [
       "count     29852.000000\n",
       "mean         97.954411\n",
       "std        1472.872821\n",
       "min           0.000000\n",
       "25%           0.000000\n",
       "50%           0.000000\n",
       "75%           0.000000\n",
       "max      126550.000000\n",
       "Name: lifetime_deposit, dtype: float64"
      ]
     },
     "execution_count": 15,
     "metadata": {},
     "output_type": "execute_result"
    }
   ],
   "source": [
    "data.sort_values(by = ['account_id', 'activity_month'], ascending = True, inplace = True)\n",
    "data['lifetime_deposit'] = calculate_lifetime_variable(data, 'total_deposit')\n",
    "data['lifetime_deposit'].describe()"
   ]
  },
  {
   "cell_type": "markdown",
   "id": "3f7e75f3",
   "metadata": {},
   "source": [
    "lifetime_revenue: Sum of all revenue generated by the account until the activity_month."
   ]
  },
  {
   "cell_type": "code",
   "execution_count": 16,
   "id": "6544396c-ea67-4e5d-8eb3-a73ff4372f44",
   "metadata": {
    "tags": []
   },
   "outputs": [
    {
     "data": {
      "text/plain": [
       "count    29852.000000\n",
       "mean        17.529818\n",
       "std        626.649784\n",
       "min     -50267.600000\n",
       "25%          0.000000\n",
       "50%          0.000000\n",
       "75%          0.000000\n",
       "max      33004.910000\n",
       "Name: lifetime_revenue, dtype: float64"
      ]
     },
     "execution_count": 16,
     "metadata": {},
     "output_type": "execute_result"
    }
   ],
   "source": [
    "data['lifetime_revenue'] = calculate_lifetime_variable(data, 'total_ngr')\n",
    "data['lifetime_revenue'].describe()"
   ]
  },
  {
   "cell_type": "code",
   "execution_count": 17,
   "id": "056efd20-641f-4b42-b006-bd7f0e139215",
   "metadata": {
    "tags": []
   },
   "outputs": [
    {
     "data": {
      "image/png": "[encoded data removed]",
      "text/plain": [
       "<Figure size 640x480 with 1 Axes>"
      ]
     },
     "metadata": {},
     "output_type": "display_data"
    }
   ],
   "source": [
    "sns.regplot(data, x = \"lifetime_deposit\", y = \"lifetime_revenue\")\n",
    "plt.grid() "
   ]
  },
  {
   "cell_type": "markdown",
   "id": "3cb6563f",
   "metadata": {},
   "source": [
    "Taking into account lifetime revenue and deposits, the chart look similar to the one looking at only monthly revenue and deposits, this is expected because most of the account have data for only one month.\n",
    "\n",
    "brand_revenue_lag: total revenue generated by the brand in the previous month of the activity_month."
   ]
  },
  {
   "cell_type": "code",
   "execution_count": 18,
   "id": "7859330b-f6b7-4d44-97f2-e014593975d9",
   "metadata": {},
   "outputs": [
    {
     "name": "stderr",
     "output_type": "stream",
     "text": [
      "C:\\Users\\eloyc\\AppData\\Local\\Temp\\ipykernel_17400\\3436187165.py:14: SettingWithCopyWarning: \n",
      "A value is trying to be set on a copy of a slice from a DataFrame\n",
      "\n",
      "See the caveats in the documentation: https://pandas.pydata.org/pandas-docs/stable/user_guide/indexing.html#returning-a-view-versus-a-copy\n",
      "  data.brand_revenue_lag.loc[month_brand_pos] = data.total_ngr.loc[previous_month_brand_pos].mean()\n"
     ]
    },
    {
     "data": {
      "text/plain": [
       "count    29852.000000\n",
       "mean        52.252510\n",
       "std        117.791096\n",
       "min      -2467.540000\n",
       "25%         23.533810\n",
       "50%         44.893029\n",
       "75%         85.791986\n",
       "max       9489.345000\n",
       "Name: brand_revenue_lag, dtype: float64"
      ]
     },
     "execution_count": 18,
     "metadata": {},
     "output_type": "execute_result"
    }
   ],
   "source": [
    "data['brand_revenue_lag'] = 0\n",
    "for month in list(data.activity_month.unique()):\n",
    "    month_pos = data.activity_month == month\n",
    "    previous_month = month - relativedelta(months = 1)\n",
    "    previous_month_pos = data.activity_month == previous_month\n",
    "\n",
    "    if previous_month_pos.sum() == 0:\n",
    "        continue\n",
    "    \n",
    "    for brand in list(data.ben_login_id.loc[month_pos].unique()):\n",
    "        month_brand_pos = (month_pos) & (data.ben_login_id == brand)\n",
    "        previous_month_brand_pos = (previous_month_pos) & (data.ben_login_id == brand)\n",
    "        if previous_month_brand_pos.sum() > 0:\n",
    "            data.brand_revenue_lag.loc[month_brand_pos] = data.total_ngr.loc[previous_month_brand_pos].mean()\n",
    "\n",
    "data.brand_revenue_lag.describe()"
   ]
  },
  {
   "cell_type": "markdown",
   "id": "ae3de2f9",
   "metadata": {},
   "source": [
    "Note: similar variables can be added for total_deposit and total_handle, as well as different lags and trends, longer lags can be useful to track variables seasonality.\n",
    "\n",
    "tracker_efectivity: Rate between the revenue generated by the leads on a specific location, against the total number of leads from that location."
   ]
  },
  {
   "cell_type": "code",
   "execution_count": 19,
   "id": "e323f486",
   "metadata": {},
   "outputs": [
    {
     "name": "stderr",
     "output_type": "stream",
     "text": [
      "C:\\Users\\eloyc\\AppData\\Local\\Temp\\ipykernel_17400\\1319195263.py:13: SettingWithCopyWarning: \n",
      "A value is trying to be set on a copy of a slice from a DataFrame\n",
      "\n",
      "See the caveats in the documentation: https://pandas.pydata.org/pandas-docs/stable/user_guide/indexing.html#returning-a-view-versus-a-copy\n",
      "  data.tracker_efectivity.loc[month_tracker_pos] = data.total_ngr.loc[previous_month_tracker_pos].sum() / data.account_id.loc[previous_month_tracker_pos].count()\n"
     ]
    },
    {
     "data": {
      "text/plain": [
       "count    29852.000000\n",
       "mean        -8.500300\n",
       "std        646.492692\n",
       "min      -7693.210000\n",
       "25%        -53.164400\n",
       "50%          4.715455\n",
       "75%         35.354464\n",
       "max      14706.600000\n",
       "Name: tracker_efectivity, dtype: float64"
      ]
     },
     "execution_count": 19,
     "metadata": {},
     "output_type": "execute_result"
    }
   ],
   "source": [
    "data['tracker_efectivity'] = 0\n",
    "for month in list(data.activity_month.unique()):\n",
    "    month_pos = data.activity_month == month\n",
    "    previous_months_pos = data.activity_month < month\n",
    "\n",
    "    if previous_month_pos.sum() == 0:\n",
    "        continue\n",
    "\n",
    "    for tracker in list(data.tracker_id.loc[month_pos].unique()):\n",
    "        month_tracker_pos = (month_pos) & (data.tracker_id == tracker)\n",
    "        previous_month_tracker_pos = (previous_month_pos) & (data.tracker_id == tracker)\n",
    "        if previous_month_tracker_pos.sum() > 0:\n",
    "            data.tracker_efectivity.loc[month_tracker_pos] = data.total_ngr.loc[previous_month_tracker_pos].sum() / data.account_id.loc[previous_month_tracker_pos].count()\n",
    "\n",
    "data.tracker_efectivity.describe()"
   ]
  },
  {
   "cell_type": "markdown",
   "id": "2986b3a3",
   "metadata": {},
   "source": [
    "churn: True if this is the last month of data of that account, False otherwise (target variable). "
   ]
  },
  {
   "cell_type": "code",
   "execution_count": 20,
   "id": "4ff445cb",
   "metadata": {},
   "outputs": [],
   "source": [
    "accounts_last_month = data.groupby('account_id').activity_month.max().reset_index()\n",
    "accounts_last_month['churn'] = 1\n",
    "data = data.merge(accounts_last_month, on = ['account_id', 'activity_month'], how = 'left')\n",
    "data.churn.fillna(0, inplace = True)"
   ]
  },
  {
   "cell_type": "markdown",
   "id": "73c5119f",
   "metadata": {},
   "source": [
    "## Train - test split\n",
    "\n",
    "In order to avoid data leaks, while keeping the characteristics of the data, the split will be made following the next steps:\n",
    "\n",
    "1. Drop last month of data (churn variable for that month will be 1 for all accounts).\n",
    "\n",
    "2. Split all accounts with only 1 activity month with 80% to train, 20% to test. \n",
    "\n",
    "3. For accounts with more that 1 activity_month, for 80% of the accounts use all data to train, for the remaining 20% keep all data but the last date to train, and use the last date to test.  "
   ]
  },
  {
   "cell_type": "code",
   "execution_count": 21,
   "id": "b01e7aca",
   "metadata": {},
   "outputs": [
    {
     "name": "stderr",
     "output_type": "stream",
     "text": [
      "C:\\Users\\eloyc\\AppData\\Local\\Temp\\ipykernel_17400\\2882147260.py:25: SettingWithCopyWarning: \n",
      "A value is trying to be set on a copy of a slice from a DataFrame.\n",
      "Try using .loc[row_indexer,col_indexer] = value instead\n",
      "\n",
      "See the caveats in the documentation: https://pandas.pydata.org/pandas-docs/stable/user_guide/indexing.html#returning-a-view-versus-a-copy\n",
      "  data_accounts_with_more_data['last_account_month'] = data_accounts_with_more_data.groupby('account_id').activity_month.transform('max')\n"
     ]
    }
   ],
   "source": [
    "# 1. Drop last month of data (churn variable for that month will be 1 for all accounts).\n",
    "\n",
    "data = data.loc[data.activity_month < data.activity_month.max()]\n",
    "\n",
    "# 2. Split all accounts with only 1 activity month with 80% to train, 20% to test.\n",
    "accounts_with_one_month = data.account_id.value_counts()\n",
    "accounts_with_one_month = accounts_with_one_month.loc[accounts_with_one_month == 1].index\n",
    "data_accounts_with_one_month = data.loc[data.account_id.isin(accounts_with_one_month)]\n",
    "\n",
    "x_columns = ['months_active', 'lifetime_deposit', 'lifetime_revenue', 'brand_revenue_lag', 'tracker_efectivity']\n",
    "y_column = ['churn']\n",
    "\n",
    "X_train, X_test, y_train, y_test = train_test_split(data_accounts_with_one_month[x_columns], data_accounts_with_one_month[y_column], test_size = 0.2, random_state = 42)\n",
    "\n",
    "# 3. For accounts with more that 1 activity_month, for 80% of the accounts use all data to train\n",
    "accounts_with_more_data = data.account_id.value_counts()\n",
    "accounts_with_more_data = accounts_with_more_data.loc[accounts_with_more_data > 1].index\n",
    "train_accounts = pd.Series(accounts_with_one_month).sample(int(0.8 * len(accounts_with_one_month)))\n",
    "\n",
    "X_train = pd.concat([X_train, data.loc[data.account_id.isin(train_accounts), x_columns]])\n",
    "y_train = pd.concat([y_train, data.loc[data.account_id.isin(train_accounts), y_column]])\n",
    "\n",
    "# for the remaining 20% keep all data but the last date to train, and use the last date to test. \n",
    "data_accounts_with_more_data = data.loc[(data.account_id.isin(accounts_with_more_data)) & (~data.account_id.isin(train_accounts))]\n",
    "data_accounts_with_more_data['last_account_month'] = data_accounts_with_more_data.groupby('account_id').activity_month.transform('max')\n",
    "\n",
    "X_train = pd.concat([X_train, data_accounts_with_more_data.loc[data_accounts_with_more_data['last_account_month'] != data_accounts_with_more_data['activity_month'], x_columns]])\n",
    "y_train = pd.concat([y_train, data_accounts_with_more_data.loc[data_accounts_with_more_data['last_account_month'] != data_accounts_with_more_data['activity_month'], y_column]])\n",
    "\n",
    "X_test = pd.concat([X_test, data_accounts_with_more_data.loc[data_accounts_with_more_data['last_account_month'] == data_accounts_with_more_data['activity_month'], x_columns]])\n",
    "y_test = pd.concat([y_test, data_accounts_with_more_data.loc[data_accounts_with_more_data['last_account_month'] == data_accounts_with_more_data['activity_month'], y_column]])\n",
    "\n",
    "# Save data files\n",
    "with open('../data/train_data.pkl', 'wb') as file:\n",
    "    pickle.dump([X_train, y_train], file)\n",
    "\n",
    "with open('../data/test_data.pkl', 'wb') as file:\n",
    "    pickle.dump([X_test, y_test], file)"
   ]
  }
 ],
 "metadata": {
  "kernelspec": {
   "display_name": "base",
   "language": "python",
   "name": "python3"
  },
  "language_info": {
   "codemirror_mode": {
    "name": "ipython",
    "version": 3
   },
   "file_extension": ".py",
   "mimetype": "text/x-python",
   "name": "python",
   "nbconvert_exporter": "python",
   "pygments_lexer": "ipython3",
   "version": "3.11.3"
  }
 },
 "nbformat": 4,
 "nbformat_minor": 5
}
